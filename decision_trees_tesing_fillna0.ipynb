{
 "cells": [
  {
   "cell_type": "code",
   "execution_count": 1,
   "metadata": {},
   "outputs": [],
   "source": [
    "# return a dataframe\n",
    "from train_test_val import main\n",
    "# return train, train_labels, test, test_labels, val, val_labels\n",
    "from train_test_val import train_test_val_split\n",
    "\n",
    "from sklearn.preprocessing import LabelEncoder, OrdinalEncoder\n",
    "from sklearn.metrics import classification_report, confusion_matrix\n",
    "from sklearn.ensemble import RandomForestClassifier\n",
    "from classification_utilities import display_cm, display_adj_cm\n",
    "from sklearn.model_selection import train_test_split\n",
    "import numpy as np\n",
    "import pandas as pd\n",
    "import os\n",
    "\n",
    "path = r\"C:\\Users\\Dunbar\\Dropbox\\Work\\FORCE\"\n",
    "infile = \"train.csv\"\n",
    "infile_path = os.path.join(path, infile)"
   ]
  },
  {
   "cell_type": "code",
   "execution_count": 13,
   "metadata": {},
   "outputs": [],
   "source": [
    "lithology_numbers = {30000: 0,\n",
    "                 65030: 1,\n",
    "                 65000: 2,\n",
    "                 80000: 3,\n",
    "                 74000: 4,\n",
    "                 70000: 5,\n",
    "                 70032: 6,\n",
    "                 88000: 7,\n",
    "                 86000: 8,\n",
    "                 99000: 9,\n",
    "                 90000: 10,\n",
    "                 93000: 11}"
   ]
  },
  {
   "cell_type": "code",
   "execution_count": 2,
   "metadata": {},
   "outputs": [],
   "source": [
    "# df = main(infile_path, 51, 1.0)\n",
    "df = pd.read_csv(infile_path, sep=';')"
   ]
  },
  {
   "cell_type": "code",
   "execution_count": 3,
   "metadata": {},
   "outputs": [],
   "source": [
    "df[\"AI\"] = df.DTC * df.RHOB"
   ]
  },
  {
   "cell_type": "code",
   "execution_count": 4,
   "metadata": {},
   "outputs": [],
   "source": [
    "def numericalise(df, string):\n",
    "    _string = df[string].unique()\n",
    "    _dict = dict(zip(_string, range(len(_string))))\n",
    "    df = df.replace(_dict)\n",
    "    return df"
   ]
  },
  {
   "cell_type": "code",
   "execution_count": 5,
   "metadata": {},
   "outputs": [],
   "source": [
    "df = numericalise(df, \"FORMATION\")\n",
    "\n",
    "df = numericalise(df, \"GROUP\")"
   ]
  },
  {
   "cell_type": "code",
   "execution_count": 6,
   "metadata": {},
   "outputs": [],
   "source": [
    "curves = ['DTC', 'FORMATION', 'GR', 'GROUP', 'NPHI',\n",
    "          'PEF', 'RDEP', 'RHOB', 'RMED', 'RSHA', 'AI', 'FORCE_2020_LITHOFACIES_LITHOLOGY']\n",
    "# curves = ['RSHA', 'RMED', 'RDEP', 'RHOB', 'GR', 'NPHI', 'PEF', 'DTC', 'AI']\n",
    "# curves = ['RSHA', 'RMED', 'RDEP', 'GR', 'NPHI', 'PEF', 'AI']\n",
    "# curves = ['RDEP', 'GR', 'NPHI', 'PEF', 'AI']"
   ]
  },
  {
   "cell_type": "code",
   "execution_count": 14,
   "metadata": {},
   "outputs": [],
   "source": [
    "from sklearn.utils import shuffle\n",
    "X = df[curves]\n",
    "X = shuffle(X)\n",
    "\n",
    "from sklearn.preprocessing import StandardScaler\n",
    "scaler = StandardScaler()\n",
    "\n",
    "y = X.pop('FORCE_2020_LITHOFACIES_LITHOLOGY')\n",
    "y = y.map(lithology_numbers)\n",
    "X = scaler.fit_transform(X)"
   ]
  },
  {
   "cell_type": "code",
   "execution_count": 15,
   "metadata": {},
   "outputs": [],
   "source": [
    "X_train, X_test, y_train, y_test = train_test_split(X, y, test_size=0.1, random_state=42)"
   ]
  },
  {
   "cell_type": "code",
   "execution_count": 9,
   "metadata": {},
   "outputs": [],
   "source": [
    "A = np.load('../penalty_matrix.npy')\n",
    "\n",
    "def score(y_true, y_pred):\n",
    "    S = 0.0\n",
    "    y_true = y_true.astype(int)\n",
    "    y_pred = y_pred.astype(int)\n",
    "    for i in range(0, y_true.shape[0]):\n",
    "        S -= A[y_true[i], y_pred[i]]\n",
    "    return S/y_true.shape[0]\n",
    "\n",
    "\n",
    "def make_model(model, X_train, y_train, X_test, y_test):\n",
    "    \n",
    "    model.fit(X_train, y_train)\n",
    "    print(\"Accuracy on training set: {:.3f}\".format(model.score(X_train, y_train)))\n",
    "    print(\"Accuracy on test set: {:.3f}\".format(model.score(X_test, y_test)))\n",
    "    #print(\"Feature importances:\\n{}\".format(model.feature_importances_))\n",
    "    predictions = model.predict(X_test)\n",
    "    conf = confusion_matrix(y_test, predictions)\n",
    "    print(display_cm(conf, facies_labels, hide_zeros=True))\n",
    "    #print(confusion_matrix(y_test, predictions))\n",
    "    print(score(y_test.values, predictions))\n",
    "\n",
    "facies_labels = ['Sst', 'S-Sh', 'Sh', 'Mrl', 'Dol', 'Lst', 'Chk', 'Hal', 'Anh', 'Tuf', 'Coa', 'Bmt']"
   ]
  },
  {
   "cell_type": "markdown",
   "metadata": {},
   "source": [
    "### Cons\n",
    "> Sensitive to noisy data. It can overfit noisy data.\n",
    "> The small variation(or variance) in data can result in the different decision tree. This can be reduced by bagging and boosting algorithms.\n",
    "> Decision trees are biased with imbalance dataset, so it is recommended that balance out the dataset before creating the decision tree"
   ]
  },
  {
   "cell_type": "code",
   "execution_count": 11,
   "metadata": {},
   "outputs": [],
   "source": [
    "from sklearn.tree import DecisionTreeClassifier"
   ]
  },
  {
   "cell_type": "code",
   "execution_count": 16,
   "metadata": {},
   "outputs": [
    {
     "name": "stdout",
     "output_type": "stream",
     "text": [
      "Accuracy on training set: 1.000\n",
      "Accuracy on test set: 0.895\n",
      "     Pred   Sst  S-Sh    Sh   Mrl   Dol   Lst   Chk   Hal   Anh   Tuf   Coa   Bmt Total\n",
      "     True\n",
      "      Sst 14765  1194   840    26    10   210     2                10    24       17081\n",
      "     S-Sh  1071 11583  1951    55     8   168                      10    21       14867\n",
      "       Sh   865  2025 67941   315    65   724     1     2     4   147    61       72150\n",
      "      Mrl    34    58   283  2772     2   188     7                                3344\n",
      "      Dol    20     7    61     3    63    12                 4                     170\n",
      "      Lst   165   186   679   218    10  4187    62                26     1        5534\n",
      "      Chk     1     3     2     5          65   976                                1052\n",
      "      Hal                 2                           770     1                     773\n",
      "      Anh           1     1           1                 6    98                     107\n",
      "      Tuf    23     4   149           2    26                    1368              1572\n",
      "      Coa    39    19    70                 3                           260         391\n",
      "      Bmt                                                                      11    11\n",
      "None\n",
      "-0.2814646481905478\n"
     ]
    }
   ],
   "source": [
    "model = DecisionTreeClassifier(random_state=0)\n",
    "make_model(model, X_train, y_train, X_test, y_test)"
   ]
  },
  {
   "cell_type": "code",
   "execution_count": 17,
   "metadata": {},
   "outputs": [
    {
     "name": "stdout",
     "output_type": "stream",
     "text": [
      "Accuracy on training set: 0.999\n",
      "Accuracy on test set: 0.903\n",
      "     Pred   Sst  S-Sh    Sh   Mrl   Dol   Lst   Chk   Hal   Anh   Tuf   Coa   Bmt Total\n",
      "     True\n",
      "      Sst 14949  1058   840    20     7   165     3                17    22       17081\n",
      "     S-Sh   956 11768  1911    46     7   164                       5    10       14867\n",
      "       Sh   803  1857 68340   286    68   608           4     1   127    56       72150\n",
      "      Mrl    26    40   267  2803     5   198     5                                3344\n",
      "      Dol    12    17    53     6    71    11                                       170\n",
      "      Lst   161   173   655   205    10  4233    78                18     1        5534\n",
      "      Chk                 3     3          63   983                                1052\n",
      "      Hal     1           3                           769                           773\n",
      "      Anh                 1           3                 6    97                     107\n",
      "      Tuf    11     8   125     1          24                    1403              1572\n",
      "      Coa    34    20    54                 2           1               280         391\n",
      "      Bmt     1                                                                10    11\n",
      "None\n",
      "-0.2603191316679766\n"
     ]
    }
   ],
   "source": [
    "#100% of available data, of which 10% test\n",
    "model = DecisionTreeClassifier(\n",
    "    criterion='entropy', #\"gini\"\n",
    "    splitter='best',  #'best'\n",
    "    max_depth=30,#None,\n",
    "    min_samples_split=2,\n",
    "    min_samples_leaf=1,\n",
    "    min_weight_fraction_leaf=0.0,\n",
    "    max_features=None,\n",
    "    random_state=None,\n",
    "    max_leaf_nodes=None,\n",
    "    min_impurity_decrease=0.0,\n",
    "    min_impurity_split=None,\n",
    "    class_weight=None,\n",
    "    presort=False,\n",
    ")\n",
    "make_model(model, X_train, y_train, X_test, y_test)"
   ]
  },
  {
   "cell_type": "code",
   "execution_count": null,
   "metadata": {},
   "outputs": [],
   "source": []
  },
  {
   "cell_type": "code",
   "execution_count": null,
   "metadata": {},
   "outputs": [],
   "source": [
    "open_test_features = pd.read_csv('../test.csv', sep=';')\n",
    "\n",
    "# open_test_features.head()\n",
    "\n",
    "print(open_test_features.columns)\n",
    "\n",
    "open_test_features[\"AI\"] = open_test_features.DTC * open_test_features.RHOB\n",
    "open_test_features = numericalise(open_test_features, \"FORMATION\")\n",
    "open_test_features = numericalise(open_test_features, \"GROUP\")\n",
    "curves_test = ['DTC', 'FORMATION', 'GR', 'GROUP', 'NPHI',\n",
    "               'PEF', 'RDEP', 'RHOB', 'RMED', 'RSHA', 'AI']\n",
    "open_test_features = open_test_features[curves_test]\n",
    "open_test_features\n",
    "\n",
    "open_test_features = scaler.transform(open_test_features)\n",
    "open_test_features\n",
    "\n",
    "test_prediction = model.predict(open_test_features)\n",
    "\n",
    "# test_prediction\n",
    "\n",
    "\n",
    "\n",
    "category_to_lithology = {y:x for x,y in lithology_numbers.items()}\n",
    "\n",
    "test_prediction_for_submission = np.vectorize(category_to_lithology.get)(test_prediction)\n",
    "\n",
    "test_prediction_for_submission\n",
    "\n",
    "np.savetxt('test_predictions_rf_entropy.csv', test_prediction_for_submission, header='lithology', comments='', fmt='%i')"
   ]
  },
  {
   "cell_type": "code",
   "execution_count": 18,
   "metadata": {},
   "outputs": [
    {
     "name": "stdout",
     "output_type": "stream",
     "text": [
      "Accuracy on training set: 0.879\n",
      "Accuracy on test set: 0.876\n",
      "     Pred   Sst  S-Sh    Sh   Mrl   Dol   Lst   Chk   Hal   Anh   Tuf   Coa   Bmt Total\n",
      "     True\n",
      "      Sst 14414  1023  1536    17          46     2           3    35     5       17081\n",
      "     S-Sh  1449  9393  3886    69          43     1                23     3       14867\n",
      "       Sh   639  1131 69930   172     1    90     7     4     1   164    11       72150\n",
      "      Mrl    74    53   742  2161         292    22                                3344\n",
      "      Dol    35    12    96     1    14    10                 2                     170\n",
      "      Lst   337   220  1103   215        3562    57           4    36              5534\n",
      "      Chk     9           4     4         148   887                                1052\n",
      "      Hal     1           3                           767     2                     773\n",
      "      Anh     3                                         6    98                     107\n",
      "      Tuf    64     2   317                 2                    1187              1572\n",
      "      Coa    81    19   112                             2               177         391\n",
      "      Bmt     8           2                                                     1    11\n",
      "None\n",
      "-0.3257761507705977\n"
     ]
    }
   ],
   "source": [
    "from sklearn.ensemble import BaggingClassifier\n",
    "\n",
    "bag_clf = BaggingClassifier(\n",
    "    DecisionTreeClassifier(), n_estimators=1000,\n",
    "    max_samples=20000, bootstrap=True, n_jobs=-1)\n",
    "\n",
    "make_model(bag_clf, X_train, y_train, X_test, y_test)"
   ]
  },
  {
   "cell_type": "markdown",
   "metadata": {},
   "source": [
    "### Cross-validation"
   ]
  },
  {
   "cell_type": "code",
   "execution_count": 19,
   "metadata": {},
   "outputs": [],
   "source": [
    "from sklearn.model_selection import cross_val_score\n",
    "from sklearn.model_selection import KFold"
   ]
  },
  {
   "cell_type": "code",
   "execution_count": 20,
   "metadata": {},
   "outputs": [
    {
     "name": "stdout",
     "output_type": "stream",
     "text": [
      "Cross-validation scores: [0.89839515 0.8995566  0.89877489 0.89745923 0.89886033]\n"
     ]
    }
   ],
   "source": [
    "#100% of data\n",
    "kfold = KFold(n_splits=5)\n",
    "scores = cross_val_score(DecisionTreeClassifier(criterion='entropy',\n",
    "                                                splitter='best',\n",
    "                                                max_depth=30),\n",
    "                         X, y, cv=kfold)\n",
    "print(f\"Cross-validation scores: {scores}\")"
   ]
  },
  {
   "cell_type": "code",
   "execution_count": null,
   "metadata": {},
   "outputs": [],
   "source": [
    "from sklearn.ensemble import AdaBoostClassifier"
   ]
  },
  {
   "cell_type": "code",
   "execution_count": null,
   "metadata": {},
   "outputs": [],
   "source": [
    "ada_clf = AdaBoostClassifier(\n",
    "    DecisionTreeClassifier(max_depth=30), n_estimators=1000,\n",
    "    algorithm=\"SAMME.R\", learning_rate=0.1)\n",
    "\n",
    "ada_clf.fit(X_train, y_train)"
   ]
  },
  {
   "cell_type": "code",
   "execution_count": null,
   "metadata": {},
   "outputs": [],
   "source": [
    "print(\"Accuracy on training set: {:.3f}\".format(ada_clf.score(X_train, y_train)))\n",
    "print(\"Accuracy on test set: {:.3f}\".format(ada_clf.score(X_test, y_test)))\n",
    "\n",
    "predictions = ada_clf.predict(X_test)\n",
    "conf = confusion_matrix(y_test, predictions)\n",
    "print(display_cm(conf, facies_labels, hide_zeros=True))\n",
    "\n",
    "print(score(y_test.values, predictions))"
   ]
  },
  {
   "cell_type": "code",
   "execution_count": null,
   "metadata": {},
   "outputs": [],
   "source": [
    "open_test_features = pd.read_csv('../test.csv', sep=';')\n",
    "\n",
    "# open_test_features.head()\n",
    "\n",
    "# print(open_test_features.columns)\n",
    "\n",
    "open_test_features[\"AI\"] = open_test_features.DTC * open_test_features.RHOB\n",
    "open_test_features = numericalise(open_test_features, \"FORMATION\")\n",
    "open_test_features = numericalise(open_test_features, \"GROUP\")\n",
    "curves_test = ['DTC', 'FORMATION', 'GR', 'GROUP', 'NPHI',\n",
    "               'PEF', 'RDEP', 'RHOB', 'RMED', 'RSHA', 'AI']\n",
    "open_test_features = open_test_features[curves_test]\n",
    "# print(open_test_features)\n",
    "\n",
    "open_test_features = scaler.transform(open_test_features)\n",
    "# print(open_test_features)\n",
    "\n",
    "test_prediction = ada_clf.predict(open_test_features)\n",
    "\n",
    "# print(test_prediction)\n",
    "\n",
    "category_to_lithology = {y:x for x,y in lithology_numbers.items()}\n",
    "\n",
    "test_prediction_for_submission = np.vectorize(category_to_lithology.get)(test_prediction)\n",
    "\n",
    "test_prediction_for_submission\n",
    "\n",
    "np.savetxt('test_predictions_ada-rf.csv', test_prediction_for_submission, header='lithology', comments='', fmt='%i')"
   ]
  },
  {
   "cell_type": "code",
   "execution_count": null,
   "metadata": {},
   "outputs": [],
   "source": []
  }
 ],
 "metadata": {
  "kernelspec": {
   "display_name": "Python 3",
   "language": "python",
   "name": "python3"
  },
  "language_info": {
   "codemirror_mode": {
    "name": "ipython",
    "version": 3
   },
   "file_extension": ".py",
   "mimetype": "text/x-python",
   "name": "python",
   "nbconvert_exporter": "python",
   "pygments_lexer": "ipython3",
   "version": "3.7.4"
  }
 },
 "nbformat": 4,
 "nbformat_minor": 2
}
