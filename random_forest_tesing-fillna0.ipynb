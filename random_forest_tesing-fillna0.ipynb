{
 "cells": [
  {
   "cell_type": "code",
   "execution_count": 3,
   "metadata": {},
   "outputs": [],
   "source": [
    "# return a dataframe\n",
    "from train_test_val import main\n",
    "# return train, train_labels, test, test_labels, val, val_labels\n",
    "from train_test_val import train_test_val_split\n",
    "\n",
    "from sklearn.preprocessing import LabelEncoder, OrdinalEncoder\n",
    "from sklearn.metrics import classification_report, confusion_matrix\n",
    "from sklearn.ensemble import RandomForestClassifier\n",
    "from classification_utilities import display_cm, display_adj_cm\n",
    "from sklearn.model_selection import train_test_split\n",
    "import numpy as np\n",
    "import pandas as pd\n",
    "import os\n",
    "\n",
    "path = r\"C:\\Users\\Dunbar\\Dropbox\\Work\\FORCE\"\n",
    "infile = \"train.csv\"\n",
    "infile_path = os.path.join(path, infile)"
   ]
  },
  {
   "cell_type": "code",
   "execution_count": 9,
   "metadata": {},
   "outputs": [],
   "source": [
    "lithology_numbers = {30000: 0,\n",
    "                 65030: 1,\n",
    "                 65000: 2,\n",
    "                 80000: 3,\n",
    "                 74000: 4,\n",
    "                 70000: 5,\n",
    "                 70032: 6,\n",
    "                 88000: 7,\n",
    "                 86000: 8,\n",
    "                 99000: 9,\n",
    "                 90000: 10,\n",
    "                 93000: 11}"
   ]
  },
  {
   "cell_type": "code",
   "execution_count": 4,
   "metadata": {},
   "outputs": [],
   "source": [
    "# df = main(infile_path, 51, 0.33)\n",
    "df = pd.read_csv(infile_path, sep=';')"
   ]
  },
  {
   "cell_type": "code",
   "execution_count": 5,
   "metadata": {},
   "outputs": [],
   "source": [
    "df[\"AI\"] = df.DTC * df.RHOB"
   ]
  },
  {
   "cell_type": "code",
   "execution_count": 6,
   "metadata": {},
   "outputs": [],
   "source": [
    "def numericalise(df, string):\n",
    "    _string = df[string].unique()\n",
    "    _dict = dict(zip(_string, range(len(_string))))\n",
    "    df = df.replace(_dict)\n",
    "    return df\n",
    "\n",
    "df = numericalise(df, \"FORMATION\")\n",
    "\n",
    "df = numericalise(df, \"GROUP\")"
   ]
  },
  {
   "cell_type": "code",
   "execution_count": 7,
   "metadata": {},
   "outputs": [],
   "source": [
    "curves = ['DTC', 'FORMATION', 'GR', 'GROUP', 'NPHI',\n",
    "          'PEF', 'RDEP', 'RHOB', 'RMED', 'RSHA', 'AI', 'FORCE_2020_LITHOFACIES_LITHOLOGY']\n",
    "# curves = ['RSHA', 'RMED', 'RDEP', 'RHOB', 'GR', 'NPHI', 'PEF', 'DTC', 'AI']\n",
    "# curves = ['RSHA', 'RMED', 'RDEP', 'GR', 'NPHI', 'PEF', 'AI']\n",
    "# curves = ['RDEP', 'GR', 'NPHI', 'PEF', 'AI']"
   ]
  },
  {
   "cell_type": "code",
   "execution_count": 10,
   "metadata": {},
   "outputs": [],
   "source": [
    "from sklearn.utils import shuffle\n",
    "X = df[curves]\n",
    "X = shuffle(X)\n",
    "\n",
    "from sklearn.preprocessing import StandardScaler\n",
    "scaler = StandardScaler()\n",
    "\n",
    "y = X.pop('FORCE_2020_LITHOFACIES_LITHOLOGY')\n",
    "y = y.map(lithology_numbers)\n",
    "X = scaler.fit_transform(X)"
   ]
  },
  {
   "cell_type": "code",
   "execution_count": 11,
   "metadata": {},
   "outputs": [],
   "source": [
    "X_train, X_test, y_train, y_test = train_test_split(X, y, test_size=0.1, random_state=42)"
   ]
  },
  {
   "cell_type": "code",
   "execution_count": 12,
   "metadata": {},
   "outputs": [],
   "source": [
    "A = np.load('../penalty_matrix.npy')\n",
    "\n",
    "def score(y_true, y_pred):\n",
    "    S = 0.0\n",
    "    y_true = y_true.astype(int)\n",
    "    y_pred = y_pred.astype(int)\n",
    "    for i in range(0, y_true.shape[0]):\n",
    "        S -= A[y_true[i], y_pred[i]]\n",
    "    return S/y_true.shape[0]\n",
    "\n",
    "\n",
    "def make_model(model, X_train, y_train, X_test, y_test):\n",
    "    \n",
    "    model.fit(X_train, y_train)\n",
    "    print(\"Accuracy on training set: {:.3f}\".format(model.score(X_train, y_train)))\n",
    "    print(\"Accuracy on test set: {:.3f}\".format(model.score(X_test, y_test)))\n",
    "    print(\"Feature importances:\\n{}\".format(model.feature_importances_))\n",
    "    predictions = model.predict(X_test)\n",
    "    conf = confusion_matrix(y_test, predictions)\n",
    "    print(display_cm(conf, facies_labels, hide_zeros=True))\n",
    "    #print(confusion_matrix(y_test, predictions))\n",
    "    print(score(y_test.values, predictions))\n",
    "\n",
    "facies_labels = ['Sst', 'S-Sh', 'Sh', 'Mrl', 'Dol', 'Lst', 'Chk', 'Hal', 'Anh', 'Tuf', 'Coa', 'Bmt']"
   ]
  },
  {
   "cell_type": "code",
   "execution_count": 13,
   "metadata": {},
   "outputs": [],
   "source": [
    "from sklearn.ensemble import RandomForestClassifier"
   ]
  },
  {
   "cell_type": "code",
   "execution_count": 14,
   "metadata": {},
   "outputs": [
    {
     "name": "stderr",
     "output_type": "stream",
     "text": [
      "C:\\Users\\Dunbar\\Anaconda3\\lib\\site-packages\\sklearn\\ensemble\\forest.py:245: FutureWarning: The default value of n_estimators will change from 10 in version 0.20 to 100 in 0.22.\n",
      "  \"10 in version 0.20 to 100 in 0.22.\", FutureWarning)\n"
     ]
    },
    {
     "name": "stdout",
     "output_type": "stream",
     "text": [
      "Accuracy on training set: 0.996\n",
      "Accuracy on test set: 0.927\n",
      "Feature importances:\n",
      "[0.082893   0.09631545 0.20361503 0.08113734 0.08925217 0.06146562\n",
      " 0.08465008 0.07475005 0.08239673 0.06172864 0.08179588]\n",
      "     Pred   Sst  S-Sh    Sh   Mrl   Dol   Lst   Chk   Hal   Anh   Tuf   Coa   Bmt Total\n",
      "     True\n",
      "      Sst 15466   639   708    12     1    47     1                 6    16       16896\n",
      "     S-Sh   929 12256  1642    14          35                       2     3       14881\n",
      "       Sh   512  1222 69931   125     4   120           6          60    22       72002\n",
      "      Mrl    31    34   276  2927         138    10                                3416\n",
      "      Dol    15    12    65     3    63     5                 2                     165\n",
      "      Lst   238   189   806   156     3  4321    40                19              5772\n",
      "      Chk           1     1     2          56  1005                                1065\n",
      "      Hal                 5                           804     1                     810\n",
      "      Anh           1     4           1                 1    94                     101\n",
      "      Tuf     4     2   132                11                    1416              1565\n",
      "      Coa    34    11    58                                             268         371\n",
      "      Bmt                                                                       8     8\n",
      "None\n",
      "-0.19428117417899737\n"
     ]
    }
   ],
   "source": [
    "model = RandomForestClassifier(random_state=0)\n",
    "make_model(model, X_train, y_train, X_test, y_test)"
   ]
  },
  {
   "cell_type": "code",
   "execution_count": 15,
   "metadata": {
    "scrolled": false
   },
   "outputs": [
    {
     "name": "stdout",
     "output_type": "stream",
     "text": [
      "Accuracy on training set: 1.000\n",
      "Accuracy on test set: 0.936\n",
      "Feature importances:\n",
      "[0.08481275 0.09920064 0.1956954  0.11348929 0.09586579 0.05646047\n",
      " 0.0752347  0.07447915 0.07597601 0.05534936 0.07343643]\n",
      "     Pred   Sst  S-Sh    Sh   Mrl   Dol   Lst   Chk   Hal   Anh   Tuf   Coa   Bmt Total\n",
      "     True\n",
      "      Sst 15513   593   725     5          31     1                 6    22       16896\n",
      "     S-Sh   718 12433  1684     5     1    31                       5     4       14881\n",
      "       Sh   409   853 70422   114     2   110           4     1    65    22       72002\n",
      "      Mrl    16    33   215  3015         130     7                                3416\n",
      "      Dol    12    12    70     3    58     5                 4     1               165\n",
      "      Lst   185   160   767   130        4463    42                25              5772\n",
      "      Chk           1     1     1          43  1019                                1065\n",
      "      Hal                 5                           805                           810\n",
      "      Anh           1     4           2                      94                     101\n",
      "      Tuf     3     2    84                 5                    1471              1565\n",
      "      Coa    25     5    59                                             282         371\n",
      "      Bmt                                                                       8     8\n",
      "None\n",
      "-0.17205173768923213\n"
     ]
    }
   ],
   "source": [
    "model = RandomForestClassifier(\n",
    "    n_estimators=100,\n",
    "    criterion='entropy',#'gini',\n",
    "    max_depth=30, #None\n",
    "    min_samples_split=2,\n",
    "    min_samples_leaf=1,\n",
    "    min_weight_fraction_leaf=0.0,\n",
    "    max_features='auto',\n",
    "    max_leaf_nodes=None,\n",
    "    min_impurity_decrease=0.0,\n",
    "    min_impurity_split=None,\n",
    "    bootstrap=True,\n",
    "    oob_score=False,\n",
    "    n_jobs=None,\n",
    "    random_state=None,\n",
    "    verbose=0,\n",
    "    warm_start=False,\n",
    "    class_weight=None,\n",
    ")\n",
    "make_model(model, X_train, y_train, X_test, y_test)"
   ]
  },
  {
   "cell_type": "code",
   "execution_count": null,
   "metadata": {},
   "outputs": [],
   "source": [
    "from sklearn.ensemble import BaggingClassifier"
   ]
  },
  {
   "cell_type": "code",
   "execution_count": 16,
   "metadata": {},
   "outputs": [
    {
     "name": "stdout",
     "output_type": "stream",
     "text": [
      "Accuracy on training set: 0.975\n",
      "Accuracy on test set: 0.928\n",
      "Feature importances:\n",
      "[0.0836953  0.10603964 0.20216822 0.12408311 0.09497296 0.05381873\n",
      " 0.06988481 0.07135817 0.07052741 0.05369282 0.06975883]\n",
      "     Pred   Sst  S-Sh    Sh   Mrl   Dol   Lst   Chk   Hal   Anh   Tuf   Coa   Bmt Total\n",
      "     True\n",
      "      Sst 15310   666   855     6          29     1                 6    23       16896\n",
      "     S-Sh   799 11845  2194     9     1    23                       5     5       14881\n",
      "       Sh   390   895 70409   120          91           6     1    69    21       72002\n",
      "      Mrl    19    32   256  2961         141     7                                3416\n",
      "      Dol    12    11    78     3    51     5                 4     1               165\n",
      "      Lst   193   172   843   128        4362    49                25              5772\n",
      "      Chk                 2     1          47  1015                                1065\n",
      "      Hal                 5                           805                           810\n",
      "      Anh           1     3           1                      96                     101\n",
      "      Tuf     3     1   100                 4                    1457              1565\n",
      "      Coa    24     3    63                                             281         371\n",
      "      Bmt                                                                       8     8\n",
      "None\n",
      "-0.19309046406725217\n"
     ]
    }
   ],
   "source": [
    "model = RandomForestClassifier(\n",
    "    n_estimators=1000,\n",
    "    criterion='entropy',#'gini',\n",
    "    max_depth=20, #None\n",
    "    min_samples_split=2,\n",
    "    min_samples_leaf=1,\n",
    "    min_weight_fraction_leaf=0.0,\n",
    "    max_features='auto',\n",
    "    max_leaf_nodes=None,\n",
    "    min_impurity_decrease=0.0,\n",
    "    min_impurity_split=None,\n",
    "    bootstrap=True,\n",
    "    oob_score=False,\n",
    "    n_jobs=None,\n",
    "    random_state=None,\n",
    "    verbose=0,\n",
    "    warm_start=False,\n",
    "    class_weight=None,\n",
    ")\n",
    "make_model(model, X_train, y_train, X_test, y_test)"
   ]
  },
  {
   "cell_type": "code",
   "execution_count": null,
   "metadata": {},
   "outputs": [],
   "source": []
  }
 ],
 "metadata": {
  "kernelspec": {
   "display_name": "Python 3",
   "language": "python",
   "name": "python3"
  },
  "language_info": {
   "codemirror_mode": {
    "name": "ipython",
    "version": 3
   },
   "file_extension": ".py",
   "mimetype": "text/x-python",
   "name": "python",
   "nbconvert_exporter": "python",
   "pygments_lexer": "ipython3",
   "version": "3.7.4"
  }
 },
 "nbformat": 4,
 "nbformat_minor": 2
}
