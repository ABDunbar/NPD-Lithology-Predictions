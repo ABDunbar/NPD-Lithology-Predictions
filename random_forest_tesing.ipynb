{
 "cells": [
  {
   "cell_type": "code",
   "execution_count": 1,
   "metadata": {},
   "outputs": [
    {
     "name": "stdout",
     "output_type": "stream",
     "text": [
      "Filling missing values from curves:\n",
      "['RSHA', 'RMED', 'RDEP', 'RHOB', 'GR', 'NPHI', 'PEF', 'DTC']\n",
      "----------------------------------------\n",
      "Group by: ['WELL', 'FORMATION']\n",
      "Total number of missing values: 1118313\n",
      "========================================\n",
      "Group by: ['WELL', 'GROUP']\n",
      "Total number of missing values: 981495\n",
      "========================================\n",
      "Group by: ['WELL']\n",
      "Total number of missing values: 415425\n",
      "========================================\n",
      "Group by: ['FORMATION']\n",
      "Total number of missing values: 6057\n",
      "========================================\n",
      "Group by: ['GROUP']\n",
      "Total number of missing values: 0\n",
      "========================================\n"
     ]
    }
   ],
   "source": [
    "# return a dataframe\n",
    "from train_test_val import main\n",
    "# return train, train_labels, test, test_labels, val, val_labels\n",
    "from train_test_val import train_test_val_split\n",
    "\n",
    "from sklearn.preprocessing import LabelEncoder, OrdinalEncoder\n",
    "from sklearn.metrics import classification_report, confusion_matrix\n",
    "from sklearn.ensemble import RandomForestClassifier\n",
    "from classification_utilities import display_cm, display_adj_cm\n",
    "from sklearn.model_selection import train_test_split\n",
    "import numpy as np\n",
    "import os\n",
    "\n",
    "path = r\"C:\\Users\\Dunbar\\Dropbox\\Work\\FORCE\"\n",
    "infile = \"train.csv\"\n",
    "infile_path = os.path.join(path, infile)\n",
    "\n",
    "df = main(infile_path, 51, 0.33)"
   ]
  },
  {
   "cell_type": "code",
   "execution_count": 2,
   "metadata": {},
   "outputs": [],
   "source": [
    "df[\"AI\"] = df.DTC * df.RHOB"
   ]
  },
  {
   "cell_type": "code",
   "execution_count": 3,
   "metadata": {},
   "outputs": [],
   "source": [
    "def numericalise(df, string):\n",
    "    _string = df[string].unique()\n",
    "    _dict = dict(zip(_string, range(len(_string))))\n",
    "    df = df.replace(_dict)\n",
    "    return df\n",
    "\n",
    "df = numericalise(df, \"FORMATION\")\n",
    "\n",
    "df = numericalise(df, \"GROUP\")"
   ]
  },
  {
   "cell_type": "code",
   "execution_count": 4,
   "metadata": {},
   "outputs": [],
   "source": [
    "curves = ['DTC', 'FORMATION', 'GR', 'GROUP', 'NPHI',\n",
    "          'PEF', 'RDEP', 'RHOB', 'RMED', 'RSHA', 'AI', 'FORCE_2020_LITHOFACIES_LITHOLOGY']\n",
    "# curves = ['RSHA', 'RMED', 'RDEP', 'RHOB', 'GR', 'NPHI', 'PEF', 'DTC', 'AI']\n",
    "# curves = ['RSHA', 'RMED', 'RDEP', 'GR', 'NPHI', 'PEF', 'AI']\n",
    "# curves = ['RDEP', 'GR', 'NPHI', 'PEF', 'AI']"
   ]
  },
  {
   "cell_type": "code",
   "execution_count": 5,
   "metadata": {},
   "outputs": [],
   "source": [
    "from sklearn.utils import shuffle\n",
    "X = df[curves]\n",
    "X = shuffle(X)\n",
    "\n",
    "from sklearn.preprocessing import StandardScaler\n",
    "scaler = StandardScaler()\n",
    "\n",
    "y = X.pop('FORCE_2020_LITHOFACIES_LITHOLOGY')\n",
    "\n",
    "X = scaler.fit_transform(X)"
   ]
  },
  {
   "cell_type": "code",
   "execution_count": 6,
   "metadata": {},
   "outputs": [],
   "source": [
    "X_train, X_test, y_train, y_test = train_test_split(X, y, test_size=0.2, random_state=42)"
   ]
  },
  {
   "cell_type": "code",
   "execution_count": 7,
   "metadata": {},
   "outputs": [],
   "source": [
    "A = np.load('../penalty_matrix.npy')\n",
    "\n",
    "def score(y_true, y_pred):\n",
    "    S = 0.0\n",
    "    y_true = y_true.astype(int)\n",
    "    y_pred = y_pred.astype(int)\n",
    "    for i in range(0, y_true.shape[0]):\n",
    "        S -= A[y_true[i], y_pred[i]]\n",
    "    return S/y_true.shape[0]\n",
    "\n",
    "\n",
    "def make_model(model, X_train, y_train, X_test, y_test):\n",
    "    \n",
    "    model.fit(X_train, y_train)\n",
    "    print(\"Accuracy on training set: {:.3f}\".format(model.score(X_train, y_train)))\n",
    "    print(\"Accuracy on test set: {:.3f}\".format(model.score(X_test, y_test)))\n",
    "    print(\"Feature importances:\\n{}\".format(model.feature_importances_))\n",
    "    predictions = model.predict(X_test)\n",
    "    conf = confusion_matrix(y_test, predictions)\n",
    "    print(display_cm(conf, facies_labels, hide_zeros=True))\n",
    "    #print(confusion_matrix(y_test, predictions))\n",
    "    print(score(y_test.values, predictions))\n",
    "\n",
    "facies_labels = ['Sst', 'S-Sh', 'Sh', 'Mrl', 'Dol', 'Lst', 'Chk', 'Hal', 'Anh', 'Tuf', 'Coa', 'Bmt']"
   ]
  },
  {
   "cell_type": "code",
   "execution_count": 8,
   "metadata": {},
   "outputs": [],
   "source": [
    "from sklearn.ensemble import RandomForestClassifier"
   ]
  },
  {
   "cell_type": "code",
   "execution_count": 9,
   "metadata": {},
   "outputs": [
    {
     "name": "stderr",
     "output_type": "stream",
     "text": [
      "C:\\Users\\Dunbar\\Anaconda3\\lib\\site-packages\\sklearn\\ensemble\\forest.py:245: FutureWarning: The default value of n_estimators will change from 10 in version 0.20 to 100 in 0.22.\n",
      "  \"10 in version 0.20 to 100 in 0.22.\", FutureWarning)\n"
     ]
    },
    {
     "name": "stdout",
     "output_type": "stream",
     "text": [
      "Accuracy on training set: 0.994\n",
      "Accuracy on test set: 0.915\n",
      "Feature importances:\n",
      "[0.08336037 0.07398318 0.15550593 0.06494635 0.11120712 0.07293979\n",
      " 0.0873788  0.08410301 0.08094426 0.07567974 0.10995145]\n",
      "     Pred   Sst  S-Sh    Sh   Mrl   Dol   Lst   Chk   Hal   Anh   Tuf   Coa   Bmt Total\n",
      "     True\n",
      "      Sst  8964   451   581     3          41                       3    17       10060\n",
      "     S-Sh   588  7457   762     6     2    56                       2     4        8877\n",
      "       Sh   656   698 38955    84     9   177     1     3     2    50    16       40651\n",
      "      Mrl     7    11   171  1846          98     7                                2140\n",
      "      Dol     1     4    48     2    18     5                 1     1                80\n",
      "      Lst    87   122   633   110        2796    26                20              3794\n",
      "      Chk     1                 6          35   653                                 695\n",
      "      Hal                 6                           567     3                     576\n",
      "      Anh                10           3     2           5    54                      74\n",
      "      Tuf     3     3    53                11                     940              1010\n",
      "      Coa    31    10    66                                             141         248\n",
      "      Bmt                                                                       6     6\n",
      "None\n",
      "-0.23823503540484672\n"
     ]
    }
   ],
   "source": [
    "model = RandomForestClassifier(random_state=0)\n",
    "make_model(model, X_train, y_train, X_test, y_test)"
   ]
  },
  {
   "cell_type": "code",
   "execution_count": 11,
   "metadata": {},
   "outputs": [
    {
     "name": "stdout",
     "output_type": "stream",
     "text": [
      "Accuracy on training set: 0.999\n",
      "Accuracy on test set: 0.923\n",
      "Feature importances:\n",
      "[0.08024232 0.0921554  0.16246855 0.09220315 0.09372069 0.0682236\n",
      " 0.07164119 0.08248918 0.07479347 0.07579769 0.10626476]\n",
      "     Pred   Sst  S-Sh    Sh   Mrl   Dol   Lst   Chk   Hal   Anh   Tuf   Coa   Bmt Total\n",
      "     True\n",
      "      Sst  8982   436   584     2          37                       5    14       10060\n",
      "     S-Sh   473  7546   787     6     2    53                       2     8        8877\n",
      "       Sh   508   541 39272    81     7   168     1     2     1    49    21       40651\n",
      "      Mrl     5     8   138  1878         105     6                                2140\n",
      "      Dol           4    46     2    24     4                                        80\n",
      "      Lst    69   119   591    87        2872    34                22              3794\n",
      "      Chk                 1     4          38   652                                 695\n",
      "      Hal                 6                           566     4                     576\n",
      "      Anh                 8           4     1           5    56                      74\n",
      "      Tuf     2     2    43                 8                     955              1010\n",
      "      Coa    25     8    55                                             160         248\n",
      "      Bmt                                                                       6     6\n",
      "None\n",
      "-0.2148791983697644\n"
     ]
    }
   ],
   "source": [
    "model = RandomForestClassifier(\n",
    "    n_estimators=100,\n",
    "    criterion='entropy',#'gini',\n",
    "    max_depth=30, #None\n",
    "    min_samples_split=2,\n",
    "    min_samples_leaf=1,\n",
    "    min_weight_fraction_leaf=0.0,\n",
    "    max_features='auto',\n",
    "    max_leaf_nodes=None,\n",
    "    min_impurity_decrease=0.0,\n",
    "    min_impurity_split=None,\n",
    "    bootstrap=True,\n",
    "    oob_score=False,\n",
    "    n_jobs=None,\n",
    "    random_state=None,\n",
    "    verbose=0,\n",
    "    warm_start=False,\n",
    "    class_weight=None,\n",
    ")\n",
    "make_model(model, X_train, y_train, X_test, y_test)"
   ]
  },
  {
   "cell_type": "code",
   "execution_count": null,
   "metadata": {},
   "outputs": [],
   "source": [
    "from sklearn.ensemble import BaggingClassifier"
   ]
  },
  {
   "cell_type": "code",
   "execution_count": null,
   "metadata": {},
   "outputs": [],
   "source": [
    "model = RandomForestClassifier(\n",
    "    n_estimators=200,\n",
    "    criterion='entropy',#'gini',\n",
    "    max_depth=30, #None\n",
    "    min_samples_split=2,\n",
    "    min_samples_leaf=1,\n",
    "    min_weight_fraction_leaf=0.0,\n",
    "    max_features='auto',\n",
    "    max_leaf_nodes=None,\n",
    "    min_impurity_decrease=0.0,\n",
    "    min_impurity_split=None,\n",
    "    bootstrap=True,\n",
    "    oob_score=False,\n",
    "    n_jobs=None,\n",
    "    random_state=None,\n",
    "    verbose=0,\n",
    "    warm_start=False,\n",
    "    class_weight=None,\n",
    ")\n",
    "make_model(model, X_train, y_train, X_test, y_test)"
   ]
  }
 ],
 "metadata": {
  "kernelspec": {
   "display_name": "Python 3",
   "language": "python",
   "name": "python3"
  },
  "language_info": {
   "codemirror_mode": {
    "name": "ipython",
    "version": 3
   },
   "file_extension": ".py",
   "mimetype": "text/x-python",
   "name": "python",
   "nbconvert_exporter": "python",
   "pygments_lexer": "ipython3",
   "version": "3.7.4"
  }
 },
 "nbformat": 4,
 "nbformat_minor": 2
}
